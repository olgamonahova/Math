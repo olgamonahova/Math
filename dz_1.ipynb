{
 "cells": [
  {
   "cell_type": "markdown",
   "metadata": {
    "colab_type": "text",
    "id": "view-in-github"
   },
   "source": [
    "<a href=\"https://colab.research.google.com/github/yustinaivanova/math_netology/blob/master/dz_1.ipynb\" target=\"_parent\"><img src=\"https://colab.research.google.com/assets/colab-badge.svg\" alt=\"Open In Colab\"/></a>"
   ]
  },
  {
   "cell_type": "markdown",
   "metadata": {
    "colab_type": "text",
    "id": "hTHl3kyDWIGO"
   },
   "source": [
    "# Математики для data science.\n",
    "# Домашнее задание 1."
   ]
  },
  {
   "cell_type": "markdown",
   "metadata": {
    "colab_type": "text",
    "id": "OAJG6826Pnft"
   },
   "source": [
    "**Задание на отображение множеств.**"
   ]
  },
  {
   "cell_type": "markdown",
   "metadata": {
    "colab_type": "text",
    "id": "lHtJSvE3Pt9i"
   },
   "source": [
    "**Задание 1.**"
   ]
  },
  {
   "cell_type": "markdown",
   "metadata": {
    "colab_type": "text",
    "id": "pRTF1ROCPxoR"
   },
   "source": [
    "Написать функцию отображения элементов одного множества в другое. Первое множество - художники, второе множество - картины художников.\n",
    "Множество художников - Серов, Левитан, Репин, Васнецов, Шишкин. \n",
    "Множество картин - \"Утро в сосновом бору\", \"Богатыри\", \"Золотая осень\", \"Девочка с персиками\", \"Запорожцы\", \"Буралки на Волге\", \"Март\", \"Алёнушка\". \n"
   ]
  },
  {
   "cell_type": "code",
   "execution_count": 1,
   "metadata": {},
   "outputs": [],
   "source": [
    "dict_painters = dict()\n",
    "dict_painters['Серов'] = ['Девочка с персиками']\n",
    "dict_painters['Левитан'] = ['Золотая осень','Март']\n",
    "dict_painters['Репин'] = ['Буралки на Волге']\n",
    "dict_painters['Васнецов'] = ['Богатыри','Запорожцы','Алёнушка']\n",
    "dict_painters['Шишкин'] = ['Утро в сосновом бору']"
   ]
  },
  {
   "cell_type": "code",
   "execution_count": 5,
   "metadata": {},
   "outputs": [],
   "source": [
    "painters = set(['Серов', 'Левитан', 'Репин', 'Васнецов', 'Шишкин'])"
   ]
  },
  {
   "cell_type": "code",
   "execution_count": 8,
   "metadata": {},
   "outputs": [
    {
     "name": "stdout",
     "output_type": "stream",
     "text": [
      "Левитан: Золотая осень, Март, \n",
      "Репин: Буралки на Волге, \n",
      "Васнецов: Богатыри, Запорожцы, Алёнушка, \n",
      "Серов: Девочка с персиками, \n",
      "Шишкин: Утро в сосновом бору, \n"
     ]
    }
   ],
   "source": [
    "for el in painters:\n",
    "    paintings = ''\n",
    "    \n",
    "    for p in dict_painters[el]:\n",
    "        paintings += p + ', '\n",
    "\n",
    "    print(el + ': '+ paintings)  "
   ]
  },
  {
   "cell_type": "markdown",
   "metadata": {
    "colab_type": "text",
    "id": "4QwS5m7CWXY3"
   },
   "source": [
    "**Полиномиальные функции.**"
   ]
  },
  {
   "cell_type": "markdown",
   "metadata": {
    "colab_type": "text",
    "id": "thQjcSL7WbIY"
   },
   "source": [
    "**Задание 2**. Найти из следующих функций те, которые являются полиномиальной функцией."
   ]
  },
  {
   "cell_type": "markdown",
   "metadata": {
    "colab_type": "text",
    "id": "GbDQjj-pWjqm"
   },
   "source": [
    "*  $$f(x)=\\frac{1}{2}x^{6}-1\\frac{5}{6}x+\\frac{1}{3}$$\n",
    "// Да\n",
    "\n",
    "*  $$f(x)=\\frac{3x^{6}-11x+2}{6}$$\n",
    "// Да\n",
    "\n",
    "*  $$f(x)=\\frac{3x^{6}-11x+2}{6x}$$\n",
    "// Нет\n",
    "\n",
    "*  $$f(x)=x^{5}-3x^{2}+7x^{-2}$$\n",
    "// Нет\n",
    "\n",
    "*  $$f(x)=(5x^{2}-2)^3-\\frac{1}{2}x^{3}$$\n",
    "// Да\n",
    "\n",
    "*  $$f(x)=(1+\\sqrt{x})^{3}-5(1+\\sqrt{x})$$\n",
    "// Нет\n",
    "\n",
    "*  $$f(x)=\\pi $$\n",
    "// Нет\n"
   ]
  },
  {
   "cell_type": "markdown",
   "metadata": {
    "colab_type": "text",
    "id": "2SOZDLZQW9vK"
   },
   "source": [
    "**Задание 3**. Раскрыть скобки для следующего полинома $$(2x+1)^{2}(x-1)-x(4x^{2}-1)-x(4x^{2}-1)=ax^3+bx^2+cx+d$$ найти коэффициенты для a, b, c, d."
   ]
  },
  {
   "cell_type": "code",
   "execution_count": 17,
   "metadata": {},
   "outputs": [],
   "source": [
    "import numpy as np\n",
    "import matplotlib.pyplot as plt\n",
    "import pandas as pd\n",
    "%matplotlib inline"
   ]
  },
  {
   "cell_type": "code",
   "execution_count": 142,
   "metadata": {},
   "outputs": [],
   "source": [
    "# a = -4, b = 0, c = -1, d = -1\n",
    "\n",
    "def polynom(x):\n",
    "  y =  -4*x**3 +0*x**2- x - 1\n",
    "  return y"
   ]
  },
  {
   "cell_type": "markdown",
   "metadata": {
    "colab_type": "text",
    "id": "FW0p4xjzIdRZ"
   },
   "source": [
    "Для данного задания полезно использовать следующие формулы сокращенного умножения:\n",
    "![alt text](https://sun9-38.userapi.com/c851232/v851232044/19c5b0/7Yy6qz-MUHA.jpg)"
   ]
  },
  {
   "cell_type": "markdown",
   "metadata": {
    "colab_type": "text",
    "id": "hETFA0bzXYdw"
   },
   "source": [
    "Чему равна степень полинома?\n",
    "#### полином 3-й степени"
   ]
  },
  {
   "cell_type": "markdown",
   "metadata": {
    "colab_type": "text",
    "id": "EH8FFbsvt64f"
   },
   "source": [
    "Нарисовать график для полинома."
   ]
  },
  {
   "cell_type": "code",
   "execution_count": 143,
   "metadata": {},
   "outputs": [
    {
     "data": {
      "image/png": "[encoded data removed]",
      "text/plain": [
       "<Figure size 432x288 with 1 Axes>"
      ]
     },
     "metadata": {},
     "output_type": "display_data"
    }
   ],
   "source": [
    "x1 = np.linspace(-10, 10, 100)\n",
    "y1 = [polynom(x1[i]) for i in range(len(x1))]\n",
    "\n",
    "plt.plot(x1, y1)\n",
    "plt.title('График функции')\n",
    "plt.ylabel('y')\n",
    "plt.xlabel('x')\n",
    "\n",
    "plt.show()"
   ]
  },
  {
   "cell_type": "markdown",
   "metadata": {
    "colab_type": "text",
    "id": "YnGld7mvZNUB"
   },
   "source": [
    "**Задание 3**.\n",
    "Для заданных функций найти подходящий график (не все функции имеют график):\n",
    "$\\frac{3}{4}x-1$,  $\\frac{3}{4}x+2$, $2-2x$, $2+2x$, $\\frac{1}{4}(x+1)^{2}-2 $, $\\frac{1}{4}(x-1)^2-2$, $(x-1)(x-3)$, $(x+1)(x+3)$, $2-x^2$, $2-\\frac{1}{4}x^2$"
   ]
  },
  {
   "cell_type": "code",
   "execution_count": 108,
   "metadata": {},
   "outputs": [],
   "source": [
    "def f1(x):\n",
    "  y =  3/4*x - 1\n",
    "  return y"
   ]
  },
  {
   "cell_type": "code",
   "execution_count": 109,
   "metadata": {},
   "outputs": [],
   "source": [
    "def f2(x):\n",
    "  y =  3/4*x + 2\n",
    "  return y"
   ]
  },
  {
   "cell_type": "code",
   "execution_count": 110,
   "metadata": {},
   "outputs": [],
   "source": [
    "def f3(x):\n",
    "  y =  2-2*x\n",
    "  return y"
   ]
  },
  {
   "cell_type": "code",
   "execution_count": 111,
   "metadata": {},
   "outputs": [],
   "source": [
    "def f4(x):\n",
    "  y =  2+2*x\n",
    "  return y"
   ]
  },
  {
   "cell_type": "code",
   "execution_count": 112,
   "metadata": {},
   "outputs": [],
   "source": [
    "def f5(x):\n",
    "  y =  1/4*(x+1)**2-2\n",
    "  return y"
   ]
  },
  {
   "cell_type": "code",
   "execution_count": 113,
   "metadata": {},
   "outputs": [],
   "source": [
    "def f6(x):\n",
    "  y =  1/4*(x-1)**2-2\n",
    "  return y"
   ]
  },
  {
   "cell_type": "code",
   "execution_count": 114,
   "metadata": {},
   "outputs": [],
   "source": [
    "def f7(x):\n",
    "  y =  (x-1)*(x-3)\n",
    "  return y"
   ]
  },
  {
   "cell_type": "code",
   "execution_count": 115,
   "metadata": {},
   "outputs": [],
   "source": [
    "def f8(x):\n",
    "  y = (x+1)*(x+3)\n",
    "  return y"
   ]
  },
  {
   "cell_type": "code",
   "execution_count": 116,
   "metadata": {},
   "outputs": [],
   "source": [
    "def f9(x):\n",
    "  y = 2 - x**2\n",
    "  return y"
   ]
  },
  {
   "cell_type": "code",
   "execution_count": 117,
   "metadata": {},
   "outputs": [],
   "source": [
    "def f10(x):\n",
    "  y = 2 - 1/4*x**2\n",
    "  return y"
   ]
  },
  {
   "cell_type": "code",
   "execution_count": 118,
   "metadata": {},
   "outputs": [],
   "source": [
    "x1 = np.linspace(-3, 3, 50)\n",
    "\n",
    "y1 = [f1(x1[i]) for i in range(len(x1))]\n",
    "y2 = [f2(x1[i]) for i in range(len(x1))]\n",
    "y3 = [f3(x1[i]) for i in range(len(x1))]\n",
    "y4 = [f4(x1[i]) for i in range(len(x1))]\n",
    "y5 = [f5(x1[i]) for i in range(len(x1))]\n",
    "y6 = [f6(x1[i]) for i in range(len(x1))]\n",
    "y7 = [f7(x1[i]) for i in range(len(x1))]\n",
    "y8 = [f8(x1[i]) for i in range(len(x1))]\n",
    "y9 = [f9(x1[i]) for i in range(len(x1))]\n",
    "y10 = [f10(x1[i]) for i in range(len(x1))]"
   ]
  },
  {
   "cell_type": "code",
   "execution_count": 119,
   "metadata": {},
   "outputs": [
    {
     "data": {
      "image/png": "[encoded data removed]",
      "text/plain": [
       "<Figure size 720x360 with 6 Axes>"
      ]
     },
     "metadata": {},
     "output_type": "display_data"
    }
   ],
   "source": [
    "plt.figure(figsize=(10, 5))\n",
    "\n",
    "plt.subplot(231)\n",
    "plt.plot(x1,y1)\n",
    "plt.axvline(0, color='r')\n",
    "plt.axhline(0, color='r')\n",
    "plt.title('f1')\n",
    "\n",
    "\n",
    "plt.subplot(232)\n",
    "plt.plot(x1,y2)\n",
    "plt.axvline(0, color='r')\n",
    "plt.axhline(0, color='r')\n",
    "plt.title('f2')\n",
    "\n",
    "plt.subplot(233)\n",
    "plt.plot(x1,y3)\n",
    "plt.axvline(0, color='r')\n",
    "plt.axhline(0, color='r')\n",
    "plt.title('f3')\n",
    "\n",
    "plt.subplot(234)\n",
    "plt.plot(x1,y4)\n",
    "plt.axvline(0, color='r')\n",
    "plt.axhline(0, color='r')\n",
    "plt.title('f4')\n",
    "\n",
    "plt.subplot(235)\n",
    "plt.plot(x1,y5)\n",
    "plt.axvline(0, color='r')\n",
    "plt.axhline(0, color='r')\n",
    "plt.title('f5')\n",
    "\n",
    "plt.subplot(236)\n",
    "plt.plot(x1,y6)\n",
    "plt.axvline(0, color='r')\n",
    "plt.axhline(0, color='r')\n",
    "plt.title('f6')\n",
    "\n",
    "\n",
    "plt.suptitle('Графики зависимости')\n",
    "plt.show()"
   ]
  },
  {
   "cell_type": "code",
   "execution_count": 120,
   "metadata": {},
   "outputs": [
    {
     "data": {
      "image/png": "[encoded data removed]",
      "text/plain": [
       "<Figure size 432x288 with 4 Axes>"
      ]
     },
     "metadata": {},
     "output_type": "display_data"
    }
   ],
   "source": [
    "plt.subplot(241)\n",
    "plt.plot(x1,y7)\n",
    "plt.axvline(0, color='r')\n",
    "plt.axhline(0, color='r')\n",
    "plt.title('f7')\n",
    "\n",
    "plt.subplot(242)\n",
    "plt.plot(x1,y8)\n",
    "plt.axvline(0, color='r')\n",
    "plt.axhline(0, color='r')\n",
    "plt.title('f8')\n",
    "\n",
    "plt.subplot(243)\n",
    "plt.plot(x1,y9)\n",
    "plt.axvline(0, color='r')\n",
    "plt.axhline(0, color='r')\n",
    "plt.title('f9')\n",
    "\n",
    "plt.subplot(244)\n",
    "plt.plot(x1,y10)\n",
    "plt.axvline(0, color='r')\n",
    "plt.axhline(0, color='r')\n",
    "plt.title('f10')\n",
    "\n",
    "plt.suptitle('Графики зависимости')\n",
    "plt.show()"
   ]
  },
  {
   "cell_type": "markdown",
   "metadata": {
    "colab_type": "text",
    "id": "8TCnR4urZX_A"
   },
   "source": [
    "![alt text](https://pp.userapi.com/c855532/v855532908/aadd4/uWjIZGDfw0s.jpg)"
   ]
  },
  {
   "cell_type": "markdown",
   "metadata": {},
   "source": [
    "f1 - 5, f2 - нет, f3 - нет, f4 - нет, f5 - 4, f6 - нет, f7 - нет, f8 - нет, f9 - 3, f10 - нет"
   ]
  },
  {
   "cell_type": "markdown",
   "metadata": {
    "colab_type": "text",
    "id": "v4PsJSrlbGni"
   },
   "source": [
    "**Задание 4.** Найти минимальную степень следующего полинома:\n",
    "\n",
    "![alt text](https://pp.userapi.com/c855532/v855532908/aadcd/PZdPYTQT02A.jpg)"
   ]
  },
  {
   "cell_type": "markdown",
   "metadata": {},
   "source": [
    "### 5-ая степень максимальная по числу пересечений оси X, минимальная 1, т.к. если меньше, это уже не полином"
   ]
  },
  {
   "cell_type": "markdown",
   "metadata": {
    "colab_type": "text",
    "id": "In-LISkBGJ1u"
   },
   "source": [
    "**Задания повышенного уровня**"
   ]
  },
  {
   "cell_type": "markdown",
   "metadata": {
    "colab_type": "text",
    "id": "FGmhJtvceZO6"
   },
   "source": [
    "Почему следующие функции не являются полиномиальными?\n",
    "$$y=5x^{-2}+1$$\n",
    "$$y=3x^{1/2}+2$$\n",
    "$$y=(5x+1)/(3x)$$"
   ]
  },
  {
   "cell_type": "markdown",
   "metadata": {},
   "source": [
    "### для полиномиальной функции степени при х должны быть целыми неотрицательными числами"
   ]
  },
  {
   "cell_type": "markdown",
   "metadata": {
    "colab_type": "text",
    "id": "XyzbTtgEezLl"
   },
   "source": [
    "Найдите наибольшее и наименьшее значение функции $y = x^3 + 2x^2 + x + 3 $ на отрезке [-4;-1]. "
   ]
  },
  {
   "cell_type": "code",
   "execution_count": 148,
   "metadata": {},
   "outputs": [],
   "source": [
    "def poli(x):\n",
    "    y = x**3 + 2*x**2 + x + 3\n",
    "    return y"
   ]
  },
  {
   "cell_type": "code",
   "execution_count": 149,
   "metadata": {},
   "outputs": [],
   "source": [
    "x1 = np.linspace(-4,-1,50)\n",
    "y1 = [poli(x1[i]) for i in range(len(x1))]"
   ]
  },
  {
   "cell_type": "code",
   "execution_count": 150,
   "metadata": {},
   "outputs": [
    {
     "data": {
      "text/plain": [
       "Text(0.5,1,'График полинома y=x^3+2x^2+x+3')"
      ]
     },
     "execution_count": 150,
     "metadata": {},
     "output_type": "execute_result"
    },
    {
     "data": {
      "image/png": "[encoded data removed]",
      "text/plain": [
       "<Figure size 432x288 with 1 Axes>"
      ]
     },
     "metadata": {},
     "output_type": "display_data"
    }
   ],
   "source": [
    "plt.plot(x1,y1,'o')\n",
    "plt.axvline(0, color='r')\n",
    "plt.axhline(0, color='r')\n",
    "plt.title('График полинома y=x^3+2x^2+x+3')"
   ]
  },
  {
   "cell_type": "code",
   "execution_count": 151,
   "metadata": {},
   "outputs": [
    {
     "name": "stdout",
     "output_type": "stream",
     "text": [
      "x значение, при котором y минимально:  -4.0\n",
      "минимальное значение функции:  -33.0\n",
      "x значение, при котором y максимально:  -1.0\n",
      "максимальное значение функции:  3.0\n"
     ]
    }
   ],
   "source": [
    "min_x = np.argmin(y1)\n",
    "print('x значение, при котором y минимально: ', x1[min_x])\n",
    "min_y = min(y1)\n",
    "print('минимальное значение функции: ', y1[min_x])\n",
    "max_x = np.argmax(y1)\n",
    "print('x значение, при котором y максимально: ', x1[max_x])\n",
    "print('максимальное значение функции: ', y1[max_x])"
   ]
  },
  {
   "cell_type": "markdown",
   "metadata": {
    "colab_type": "text",
    "id": "zZwKoyIwf4SV"
   },
   "source": [
    "Пример линейной регрессии - это применение полиномов на практике. В следующем примере дан датасет x, y, сгенерированный рандомно. Мы можем использовать линейную регрессию, чтобы предсказать значение переменной y от x. "
   ]
  },
  {
   "cell_type": "code",
   "execution_count": 134,
   "metadata": {
    "colab": {
     "base_uri": "https://localhost:8080/",
     "height": 269
    },
    "colab_type": "code",
    "id": "wyWYYrGnWHVk",
    "outputId": "85df8263-3022-4a15-8a64-204ec3ec56a6"
   },
   "outputs": [
    {
     "data": {
      "image/png": "[encoded data removed]",
      "text/plain": [
       "<Figure size 432x288 with 1 Axes>"
      ]
     },
     "metadata": {},
     "output_type": "display_data"
    }
   ],
   "source": [
    "import numpy as np\n",
    "import matplotlib.pyplot as plt\n",
    "\n",
    "from sklearn.linear_model import LinearRegression\n",
    "\n",
    "np.random.seed(0)\n",
    "x = 2 - 3 * np.random.normal(0, 1, 20)\n",
    "y = x - 2 * (x ** 2) + 0.5 * (x ** 3) + np.random.normal(-3, 3, 20)\n",
    "\n",
    "# transforming the data to include another axis\n",
    "x = x[:, np.newaxis]\n",
    "y = y[:, np.newaxis]\n",
    "\n",
    "model = LinearRegression()\n",
    "model.fit(x, y)\n",
    "y_pred = model.predict(x)\n",
    "\n",
    "plt.scatter(x, y, s=10)\n",
    "plt.plot(x, y_pred, color='r')\n",
    "plt.show()"
   ]
  },
  {
   "cell_type": "markdown",
   "metadata": {
    "colab_type": "text",
    "id": "_jdDSF1KhGCA"
   },
   "source": [
    "В данном примере найден полином первой степени. Как можно улучшить данную модель? Написать пример. "
   ]
  },
  {
   "cell_type": "code",
   "execution_count": 135,
   "metadata": {},
   "outputs": [],
   "source": [
    "# можно подобрать полином более высокой степени, например 3-ей степени"
   ]
  },
  {
   "cell_type": "code",
   "execution_count": 137,
   "metadata": {},
   "outputs": [],
   "source": [
    "from sklearn.preprocessing import PolynomialFeatures \n",
    "  \n",
    "poly = PolynomialFeatures(degree = 3) \n",
    "X_poly = poly.fit_transform(x) \n",
    "  \n",
    "poly.fit(X_poly, y) \n",
    "lin = LinearRegression()\n",
    "model = lin.fit(X_poly, y) "
   ]
  },
  {
   "cell_type": "code",
   "execution_count": 153,
   "metadata": {},
   "outputs": [
    {
     "data": {
      "image/png": "[encoded data removed]",
      "text/plain": [
       "<Figure size 432x288 with 1 Axes>"
      ]
     },
     "metadata": {},
     "output_type": "display_data"
    }
   ],
   "source": [
    "y_pred = model.predict(poly.fit_transform(x))\n",
    "plt.scatter(x, y, marker='o')\n",
    "plt.scatter(x, y_pred)\n",
    "plt.legend(['исходные данные', 'полином 3-ей степени'])\n",
    "plt.show()"
   ]
  }
 ],
 "metadata": {
  "colab": {
   "include_colab_link": true,
   "name": "Untitled2.ipynb",
   "provenance": [],
   "version": "0.3.2"
  },
  "kernelspec": {
   "display_name": "Python 3",
   "language": "python",
   "name": "python3"
  },
  "language_info": {
   "codemirror_mode": {
    "name": "ipython",
    "version": 3
   },
   "file_extension": ".py",
   "mimetype": "text/x-python",
   "name": "python",
   "nbconvert_exporter": "python",
   "pygments_lexer": "ipython3",
   "version": "3.6.5"
  }
 },
 "nbformat": 4,
 "nbformat_minor": 1
}
