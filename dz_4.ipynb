{
 "cells": [
  {
   "cell_type": "markdown",
   "metadata": {
    "colab_type": "text",
    "id": "view-in-github"
   },
   "source": [
    "<a href=\"https://colab.research.google.com/github/yustinaivanova/math_netology/blob/master/dz_4.ipynb\" target=\"_parent\"><img src=\"https://colab.research.google.com/assets/colab-badge.svg\" alt=\"Open In Colab\"/></a>"
   ]
  },
  {
   "cell_type": "markdown",
   "metadata": {
    "colab_type": "text",
    "id": "TDhwJY1ZsPFM"
   },
   "source": [
    "# Домашнее задание 4. Математика для data sciense. Нетология."
   ]
  },
  {
   "cell_type": "markdown",
   "metadata": {
    "colab_type": "text",
    "id": "cT8mpxHgCpQV"
   },
   "source": [
    "Загрузить датасет из лекции 4, выбрать вектор в двухмерном пространстве на основе данного датасета и построить логистическую регрессию.\n"
   ]
  },
  {
   "cell_type": "code",
   "execution_count": 197,
   "metadata": {},
   "outputs": [],
   "source": [
    "import numpy as np\n",
    "import matplotlib.pyplot as plt\n",
    "import pandas as pd\n",
    "\n",
    "from sklearn.linear_model import LogisticRegression\n",
    "from sklearn.metrics import accuracy_score "
   ]
  },
  {
   "cell_type": "code",
   "execution_count": 198,
   "metadata": {
    "colab": {},
    "colab_type": "code",
    "id": "K3-N84RmDQWV"
   },
   "outputs": [
    {
     "data": {
      "text/html": [
       "<div>\n",
       "<style scoped>\n",
       "    .dataframe tbody tr th:only-of-type {\n",
       "        vertical-align: middle;\n",
       "    }\n",
       "\n",
       "    .dataframe tbody tr th {\n",
       "        vertical-align: top;\n",
       "    }\n",
       "\n",
       "    .dataframe thead th {\n",
       "        text-align: right;\n",
       "    }\n",
       "</style>\n",
       "<table border=\"1\" class=\"dataframe\">\n",
       "  <thead>\n",
       "    <tr style=\"text-align: right;\">\n",
       "      <th></th>\n",
       "      <th>age</th>\n",
       "      <th>sex</th>\n",
       "      <th>cp</th>\n",
       "      <th>trestbps</th>\n",
       "      <th>chol</th>\n",
       "      <th>fbs</th>\n",
       "      <th>restecg</th>\n",
       "      <th>thalach</th>\n",
       "      <th>exang</th>\n",
       "      <th>oldpeak</th>\n",
       "      <th>slope</th>\n",
       "      <th>ca</th>\n",
       "      <th>thal</th>\n",
       "      <th>target</th>\n",
       "    </tr>\n",
       "  </thead>\n",
       "  <tbody>\n",
       "    <tr>\n",
       "      <th>0</th>\n",
       "      <td>63</td>\n",
       "      <td>1</td>\n",
       "      <td>3</td>\n",
       "      <td>145</td>\n",
       "      <td>233</td>\n",
       "      <td>1</td>\n",
       "      <td>0</td>\n",
       "      <td>150</td>\n",
       "      <td>0</td>\n",
       "      <td>2.3</td>\n",
       "      <td>0</td>\n",
       "      <td>0</td>\n",
       "      <td>1</td>\n",
       "      <td>1</td>\n",
       "    </tr>\n",
       "    <tr>\n",
       "      <th>1</th>\n",
       "      <td>37</td>\n",
       "      <td>1</td>\n",
       "      <td>2</td>\n",
       "      <td>130</td>\n",
       "      <td>250</td>\n",
       "      <td>0</td>\n",
       "      <td>1</td>\n",
       "      <td>187</td>\n",
       "      <td>0</td>\n",
       "      <td>3.5</td>\n",
       "      <td>0</td>\n",
       "      <td>0</td>\n",
       "      <td>2</td>\n",
       "      <td>1</td>\n",
       "    </tr>\n",
       "    <tr>\n",
       "      <th>2</th>\n",
       "      <td>41</td>\n",
       "      <td>0</td>\n",
       "      <td>1</td>\n",
       "      <td>130</td>\n",
       "      <td>204</td>\n",
       "      <td>0</td>\n",
       "      <td>0</td>\n",
       "      <td>172</td>\n",
       "      <td>0</td>\n",
       "      <td>1.4</td>\n",
       "      <td>2</td>\n",
       "      <td>0</td>\n",
       "      <td>2</td>\n",
       "      <td>1</td>\n",
       "    </tr>\n",
       "    <tr>\n",
       "      <th>3</th>\n",
       "      <td>56</td>\n",
       "      <td>1</td>\n",
       "      <td>1</td>\n",
       "      <td>120</td>\n",
       "      <td>236</td>\n",
       "      <td>0</td>\n",
       "      <td>1</td>\n",
       "      <td>178</td>\n",
       "      <td>0</td>\n",
       "      <td>0.8</td>\n",
       "      <td>2</td>\n",
       "      <td>0</td>\n",
       "      <td>2</td>\n",
       "      <td>1</td>\n",
       "    </tr>\n",
       "    <tr>\n",
       "      <th>4</th>\n",
       "      <td>57</td>\n",
       "      <td>0</td>\n",
       "      <td>0</td>\n",
       "      <td>120</td>\n",
       "      <td>354</td>\n",
       "      <td>0</td>\n",
       "      <td>1</td>\n",
       "      <td>163</td>\n",
       "      <td>1</td>\n",
       "      <td>0.6</td>\n",
       "      <td>2</td>\n",
       "      <td>0</td>\n",
       "      <td>2</td>\n",
       "      <td>1</td>\n",
       "    </tr>\n",
       "  </tbody>\n",
       "</table>\n",
       "</div>"
      ],
      "text/plain": [
       "   age  sex  cp  trestbps  chol  fbs  restecg  thalach  exang  oldpeak  slope  \\\n",
       "0   63    1   3       145   233    1        0      150      0      2.3      0   \n",
       "1   37    1   2       130   250    0        1      187      0      3.5      0   \n",
       "2   41    0   1       130   204    0        0      172      0      1.4      2   \n",
       "3   56    1   1       120   236    0        1      178      0      0.8      2   \n",
       "4   57    0   0       120   354    0        1      163      1      0.6      2   \n",
       "\n",
       "   ca  thal  target  \n",
       "0   0     1       1  \n",
       "1   0     2       1  \n",
       "2   0     2       1  \n",
       "3   0     2       1  \n",
       "4   0     2       1  "
      ]
     },
     "execution_count": 198,
     "metadata": {},
     "output_type": "execute_result"
    }
   ],
   "source": [
    "url=\"http://yustiks.ru/dataset/heart.csv\"\n",
    "data=pd.read_csv(url)\n",
    "data.head()"
   ]
  },
  {
   "cell_type": "code",
   "execution_count": 199,
   "metadata": {},
   "outputs": [
    {
     "data": {
      "text/plain": [
       "Index(['age', 'sex', 'cp', 'trestbps', 'chol', 'fbs', 'restecg', 'thalach',\n",
       "       'exang', 'oldpeak', 'slope', 'ca', 'thal', 'target'],\n",
       "      dtype='object')"
      ]
     },
     "execution_count": 199,
     "metadata": {},
     "output_type": "execute_result"
    }
   ],
   "source": [
    "data.columns"
   ]
  },
  {
   "cell_type": "code",
   "execution_count": 200,
   "metadata": {},
   "outputs": [],
   "source": [
    "columns = ['age', 'sex', 'cp', 'trestbps', 'chol', 'fbs', 'restecg', 'thalach',\n",
    "       'exang', 'oldpeak', 'slope', 'ca', 'thal']"
   ]
  },
  {
   "cell_type": "code",
   "execution_count": 201,
   "metadata": {},
   "outputs": [
    {
     "name": "stderr",
     "output_type": "stream",
     "text": [
      "/Users/olgamonahova/anaconda3/lib/python3.6/site-packages/sklearn/utils/validation.py:578: DataConversionWarning: A column-vector y was passed when a 1d array was expected. Please change the shape of y to (n_samples, ), for example using ravel().\n",
      "  y = column_or_1d(y, warn=True)\n"
     ]
    }
   ],
   "source": [
    "y = np.array(data.loc[:, ['target']])\n",
    "\n",
    "res =pd.DataFrame(columns=['Pair','Accuracy','Coeffs','intercept'])\n",
    "i, j, k =0,0,0\n",
    "\n",
    "for col_1 in columns:\n",
    "    j+=1\n",
    "    for col_2 in columns:\n",
    "        k+=1\n",
    "        if col_1 != col_2 and j+k<len(columns)*2 :\n",
    "            X = np.array(data.loc[:, [col_1,col_2]])\n",
    "            model = LogisticRegression()\n",
    "            model.fit(X, y)\n",
    "            predicted_classes = model.predict(X)\n",
    "            accuracy = np.round(accuracy_score(y.flatten(),predicted_classes),2)\n",
    "            parameters = model.coef_\n",
    "            c = model.intercept_\n",
    "            name = col_1 + \" & \" + col_2\n",
    "            res.loc[i] = [name] + [accuracy] + [parameters] + [c]\n",
    "            i+=1\n",
    "            #print(col_1, '&', col_2, accuracy, parameters,c)"
   ]
  },
  {
   "cell_type": "code",
   "execution_count": 203,
   "metadata": {},
   "outputs": [
    {
     "data": {
      "text/html": [
       "<div>\n",
       "<style scoped>\n",
       "    .dataframe tbody tr th:only-of-type {\n",
       "        vertical-align: middle;\n",
       "    }\n",
       "\n",
       "    .dataframe tbody tr th {\n",
       "        vertical-align: top;\n",
       "    }\n",
       "\n",
       "    .dataframe thead th {\n",
       "        text-align: right;\n",
       "    }\n",
       "</style>\n",
       "<table border=\"1\" class=\"dataframe\">\n",
       "  <thead>\n",
       "    <tr style=\"text-align: right;\">\n",
       "      <th></th>\n",
       "      <th>Pair</th>\n",
       "      <th>Accuracy</th>\n",
       "      <th>Coeffs</th>\n",
       "      <th>intercept</th>\n",
       "    </tr>\n",
       "  </thead>\n",
       "  <tbody>\n",
       "    <tr>\n",
       "      <th>1</th>\n",
       "      <td>age &amp; cp</td>\n",
       "      <td>0.75</td>\n",
       "      <td>[[-0.03821710478073364, 0.9756154106045922]]</td>\n",
       "      <td>[1.368168569474773]</td>\n",
       "    </tr>\n",
       "    <tr>\n",
       "      <th>11</th>\n",
       "      <td>age &amp; thal</td>\n",
       "      <td>0.75</td>\n",
       "      <td>[[-0.018712505510680162, -0.8783441351747066]]</td>\n",
       "      <td>[3.1997996266100523]</td>\n",
       "    </tr>\n",
       "    <tr>\n",
       "      <th>10</th>\n",
       "      <td>age &amp; ca</td>\n",
       "      <td>0.74</td>\n",
       "      <td>[[-0.014167640606512152, -0.8275351913410663]]</td>\n",
       "      <td>[1.5071683809411687]</td>\n",
       "    </tr>\n",
       "    <tr>\n",
       "      <th>20</th>\n",
       "      <td>sex &amp; oldpeak</td>\n",
       "      <td>0.74</td>\n",
       "      <td>[[-1.110481146215292, -0.8800431983637024]]</td>\n",
       "      <td>[1.8111719616156452]</td>\n",
       "    </tr>\n",
       "    <tr>\n",
       "      <th>7</th>\n",
       "      <td>age &amp; exang</td>\n",
       "      <td>0.72</td>\n",
       "      <td>[[-0.026649352227233258, -1.8066244025649643]]</td>\n",
       "      <td>[2.181382379996358]</td>\n",
       "    </tr>\n",
       "    <tr>\n",
       "      <th>19</th>\n",
       "      <td>sex &amp; exang</td>\n",
       "      <td>0.72</td>\n",
       "      <td>[[-1.0532859080658745, -1.7960947898954285]]</td>\n",
       "      <td>[1.4750020676322422]</td>\n",
       "    </tr>\n",
       "    <tr>\n",
       "      <th>18</th>\n",
       "      <td>sex &amp; thalach</td>\n",
       "      <td>0.71</td>\n",
       "      <td>[[-1.4115638175282625, 0.02832247211362443]]</td>\n",
       "      <td>[-3.0116576299491844]</td>\n",
       "    </tr>\n",
       "    <tr>\n",
       "      <th>8</th>\n",
       "      <td>age &amp; oldpeak</td>\n",
       "      <td>0.70</td>\n",
       "      <td>[[-0.015918022806327134, -0.8616846513336035]]</td>\n",
       "      <td>[1.8828301617142575]</td>\n",
       "    </tr>\n",
       "    <tr>\n",
       "      <th>9</th>\n",
       "      <td>age &amp; slope</td>\n",
       "      <td>0.70</td>\n",
       "      <td>[[-0.037350718876655246, 1.1445149201872913]]</td>\n",
       "      <td>[0.6192635251778067]</td>\n",
       "    </tr>\n",
       "    <tr>\n",
       "      <th>13</th>\n",
       "      <td>sex &amp; cp</td>\n",
       "      <td>0.69</td>\n",
       "      <td>[[-1.2976531083677616, 0.9863047934270326]]</td>\n",
       "      <td>[0.20061797605943588]</td>\n",
       "    </tr>\n",
       "  </tbody>\n",
       "</table>\n",
       "</div>"
      ],
      "text/plain": [
       "             Pair  Accuracy                                          Coeffs  \\\n",
       "1        age & cp      0.75    [[-0.03821710478073364, 0.9756154106045922]]   \n",
       "11     age & thal      0.75  [[-0.018712505510680162, -0.8783441351747066]]   \n",
       "10       age & ca      0.74  [[-0.014167640606512152, -0.8275351913410663]]   \n",
       "20  sex & oldpeak      0.74     [[-1.110481146215292, -0.8800431983637024]]   \n",
       "7     age & exang      0.72  [[-0.026649352227233258, -1.8066244025649643]]   \n",
       "19    sex & exang      0.72    [[-1.0532859080658745, -1.7960947898954285]]   \n",
       "18  sex & thalach      0.71    [[-1.4115638175282625, 0.02832247211362443]]   \n",
       "8   age & oldpeak      0.70  [[-0.015918022806327134, -0.8616846513336035]]   \n",
       "9     age & slope      0.70   [[-0.037350718876655246, 1.1445149201872913]]   \n",
       "13       sex & cp      0.69     [[-1.2976531083677616, 0.9863047934270326]]   \n",
       "\n",
       "                intercept  \n",
       "1     [1.368168569474773]  \n",
       "11   [3.1997996266100523]  \n",
       "10   [1.5071683809411687]  \n",
       "20   [1.8111719616156452]  \n",
       "7     [2.181382379996358]  \n",
       "19   [1.4750020676322422]  \n",
       "18  [-3.0116576299491844]  \n",
       "8    [1.8828301617142575]  \n",
       "9    [0.6192635251778067]  \n",
       "13  [0.20061797605943588]  "
      ]
     },
     "execution_count": 203,
     "metadata": {},
     "output_type": "execute_result"
    }
   ],
   "source": [
    "#выведем TOP-10 пар с наибольшей точностью\n",
    "\n",
    "res = res.sort_values(by='Accuracy',ascending=False).head(10)\n",
    "res"
   ]
  },
  {
   "cell_type": "code",
   "execution_count": 204,
   "metadata": {},
   "outputs": [
    {
     "data": {
      "text/plain": [
       "[<matplotlib.lines.Line2D at 0x1a25c2b710>]"
      ]
     },
     "execution_count": 204,
     "metadata": {},
     "output_type": "execute_result"
    },
    {
     "data": {
      "image/png": "[encoded data removed]",
      "text/plain": [
       "<Figure size 432x288 with 1 Axes>"
      ]
     },
     "metadata": {},
     "output_type": "display_data"
    }
   ],
   "source": [
    "plt.scatter(x=data.age, y=data.cp , c=data.target, cmap = 'winter', alpha=0.3)\n",
    "\n",
    "i=1\n",
    "x_values = [30, 80]\n",
    "\n",
    "y_values = -(res.intercept[i] + np.dot(res.Coeffs[i][0][0],x_values)) / res.Coeffs[i][0][1]\n",
    "\n",
    "plt.plot(x_values, y_values)"
   ]
  },
  {
   "cell_type": "markdown",
   "metadata": {
    "colab_type": "text",
    "id": "bXM_Eo5BDQzn"
   },
   "source": [
    "**Задание повышенного уровня**"
   ]
  },
  {
   "cell_type": "markdown",
   "metadata": {
    "colab_type": "text",
    "id": "Ps40bLwqEkSq"
   },
   "source": [
    "Дана параметрическая модель человека. \n",
    "\n",
    "*   Посчитать угол, который образуется от вектора позвоночника до вектора горизонтали.\n",
    "*   Рассчитать рост человека.\n",
    "\n"
   ]
  },
  {
   "cell_type": "markdown",
   "metadata": {
    "colab_type": "text",
    "id": "Ys3zYfqfExi9"
   },
   "source": [
    "![alt text](https://github.com/yustiks/3D_model_test_task/blob/master/snapshot01.png?raw=true)"
   ]
  },
  {
   "cell_type": "markdown",
   "metadata": {
    "colab_type": "text",
    "id": "zsfTQJRJFpDV"
   },
   "source": [
    "Параметрическую модель нужно попросить у меня (скину на почту)"
   ]
  }
 ],
 "metadata": {
  "colab": {
   "include_colab_link": true,
   "name": "dz_3.ipynb",
   "provenance": [],
   "version": "0.3.2"
  },
  "kernelspec": {
   "display_name": "Python 3",
   "language": "python",
   "name": "python3"
  },
  "language_info": {
   "codemirror_mode": {
    "name": "ipython",
    "version": 3
   },
   "file_extension": ".py",
   "mimetype": "text/x-python",
   "name": "python",
   "nbconvert_exporter": "python",
   "pygments_lexer": "ipython3",
   "version": "3.6.5"
  }
 },
 "nbformat": 4,
 "nbformat_minor": 1
}
